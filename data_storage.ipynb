{
 "cells": [
  {
   "cell_type": "code",
   "execution_count": 1,
   "metadata": {},
   "outputs": [],
   "source": [
    "import mysql.connector\n",
    "import redis\n",
    "import json\n",
    "import numpy as np\n",
    "\n",
    "# MySQL connection details\n",
    "MYSQL_HOST = 'localhost'\n",
    "MYSQL_USER = 'root'\n",
    "MYSQL_PASSWORD = ''\n",
    "MYSQL_DB = 'stock_data'\n",
    "\n",
    "# Redis connection\n",
    "REDIS_HOST = 'localhost'\n",
    "REDIS_PORT = 6379\n"
   ]
  },
  {
   "cell_type": "code",
   "execution_count": 2,
   "metadata": {},
   "outputs": [],
   "source": [
    "# Function to connect to MySQL\n",
    "def connect_mysql():\n",
    "    return mysql.connector.connect(\n",
    "        host=MYSQL_HOST,\n",
    "        user=MYSQL_USER,\n",
    "        password=MYSQL_PASSWORD,\n",
    "        database=MYSQL_DB\n",
    "    )\n",
    "\n",
    "# Function to store data in MySQL\n",
    "def store_stock_data_in_mysql(historical_data, predicted_data_lstm, predicted_data_rf, dates, tech_list):\n",
    "    conn = connect_mysql()\n",
    "    cursor = conn.cursor()\n",
    "\n",
    "    for ticker in tech_list:\n",
    "        for date, historical_price in zip(dates, historical_data[ticker]):\n",
    "            predicted_lstm = predicted_data_lstm[ticker][list(dates).index(date)]\n",
    "            predicted_rf = predicted_data_rf[ticker][list(dates).index(date)]\n",
    "            \n",
    "            cursor.execute(\"\"\"\n",
    "                INSERT INTO stock_prices (ticker, date, historical_price, predicted_price_lstm, predicted_price_rf)\n",
    "                VALUES (%s, %s, %s, %s, %s)\n",
    "            \"\"\", (ticker, date, historical_price, predicted_lstm, predicted_rf))\n",
    "\n",
    "    conn.commit()\n",
    "    cursor.close()\n",
    "    conn.close()\n"
   ]
  },
  {
   "cell_type": "code",
   "execution_count": 3,
   "metadata": {},
   "outputs": [],
   "source": [
    "# Function to connect to Redis\n",
    "def connect_redis():\n",
    "    return redis.StrictRedis(host=REDIS_HOST, port=REDIS_PORT, db=0)\n",
    "\n",
    "# Function to store real-time data in Redis\n",
    "def store_real_time_data_in_redis(ticker, real_time_data):\n",
    "    redis_client = connect_redis()\n",
    "    redis_client.set(ticker, json.dumps(real_time_data))\n",
    "\n",
    "# Function to get real-time data from Redis\n",
    "def get_real_time_data_from_redis(ticker):\n",
    "    redis_client = connect_redis()\n",
    "    cached_data = redis_client.get(ticker)\n",
    "    \n",
    "    if cached_data:\n",
    "        return json.loads(cached_data)\n",
    "    else:\n",
    "        return None  # Cache miss\n"
   ]
  }
 ],
 "metadata": {
  "kernelspec": {
   "display_name": "Python 3",
   "language": "python",
   "name": "python3"
  },
  "language_info": {
   "codemirror_mode": {
    "name": "ipython",
    "version": 3
   },
   "file_extension": ".py",
   "mimetype": "text/x-python",
   "name": "python",
   "nbconvert_exporter": "python",
   "pygments_lexer": "ipython3",
   "version": "3.9.6"
  }
 },
 "nbformat": 4,
 "nbformat_minor": 2
}
