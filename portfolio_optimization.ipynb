{
 "cells": [
  {
   "cell_type": "code",
   "execution_count": 27,
   "metadata": {},
   "outputs": [
    {
     "name": "stdout",
     "output_type": "stream",
     "text": [
      "  Company        Date   Adj Close       Close        High         Low  \\\n",
      "0   APPLE  2024-09-06  220.577332  220.820007  225.240005  219.770004   \n",
      "1   APPLE  2024-09-09  220.667221  220.910004  221.270004  216.710007   \n",
      "2   APPLE  2024-09-10  219.868103  220.110001  221.479996  216.729996   \n",
      "3   APPLE  2024-09-11  222.415298  222.660004  223.089996  217.889999   \n",
      "4   APPLE  2024-09-12  222.525177  222.770004  223.550003  219.820007   \n",
      "\n",
      "         Open    Volume  LSTM Predictions  RF Predictions  \n",
      "0  223.949997  48423000        217.669837      221.968604  \n",
      "1  220.820007  67180000        217.265124      221.819303  \n",
      "2  218.919998  51591000        216.749693      221.818804  \n",
      "3  221.460007  44587100        216.145360      220.822303  \n",
      "4  222.500000  37498200        215.614873      221.378803  \n",
      "<class 'pandas.core.frame.DataFrame'>\n",
      "RangeIndex: 496 entries, 0 to 495\n",
      "Data columns (total 10 columns):\n",
      " #   Column            Non-Null Count  Dtype  \n",
      "---  ------            --------------  -----  \n",
      " 0   Company           496 non-null    object \n",
      " 1   Date              496 non-null    object \n",
      " 2   Adj Close         496 non-null    float64\n",
      " 3   Close             496 non-null    float64\n",
      " 4   High              496 non-null    float64\n",
      " 5   Low               496 non-null    float64\n",
      " 6   Open              496 non-null    float64\n",
      " 7   Volume            496 non-null    int64  \n",
      " 8   LSTM Predictions  496 non-null    float64\n",
      " 9   RF Predictions    496 non-null    float64\n",
      "dtypes: float64(7), int64(1), object(2)\n",
      "memory usage: 38.9+ KB\n",
      "None\n"
     ]
    }
   ],
   "source": [
    "import pandas as pd\n",
    "\n",
    "# Load the CSV without parsing dates or setting an index\n",
    "predicted_prices = pd.read_csv(\"output.csv\")\n",
    "print(predicted_prices.head())\n",
    "print(predicted_prices.info())\n"
   ]
  },
  {
   "cell_type": "code",
   "execution_count": 28,
   "metadata": {},
   "outputs": [
    {
     "name": "stdout",
     "output_type": "stream",
     "text": [
      "  Company        Date   Adj Close       Close        High         Low  \\\n",
      "0   APPLE  2024-09-06  220.577332  220.820007  225.240005  219.770004   \n",
      "1   APPLE  2024-09-09  220.667221  220.910004  221.270004  216.710007   \n",
      "2   APPLE  2024-09-10  219.868103  220.110001  221.479996  216.729996   \n",
      "3   APPLE  2024-09-11  222.415298  222.660004  223.089996  217.889999   \n",
      "4   APPLE  2024-09-12  222.525177  222.770004  223.550003  219.820007   \n",
      "\n",
      "         Open    Volume  LSTM Predictions  RF Predictions  \n",
      "0  223.949997  48423000        217.669837      221.968604  \n",
      "1  220.820007  67180000        217.265124      221.819303  \n",
      "2  218.919998  51591000        216.749693      221.818804  \n",
      "3  221.460007  44587100        216.145360      220.822303  \n",
      "4  222.500000  37498200        215.614873      221.378803  \n"
     ]
    }
   ],
   "source": [
    "# Skip metadata rows (e.g., the first row) and reset column headers\n",
    "predicted_prices = pd.read_csv(\"output.csv\")\n",
    "print(predicted_prices.head())\n"
   ]
  },
  {
   "cell_type": "markdown",
   "metadata": {},
   "source": []
  },
  {
   "cell_type": "code",
   "execution_count": 29,
   "metadata": {},
   "outputs": [
    {
     "name": "stdout",
     "output_type": "stream",
     "text": [
      "  Company        Date   Adj Close       Close        High         Low  \\\n",
      "0   APPLE  2024-09-06  220.577332  220.820007  225.240005  219.770004   \n",
      "1   APPLE  2024-09-09  220.667221  220.910004  221.270004  216.710007   \n",
      "2   APPLE  2024-09-10  219.868103  220.110001  221.479996  216.729996   \n",
      "3   APPLE  2024-09-11  222.415298  222.660004  223.089996  217.889999   \n",
      "4   APPLE  2024-09-12  222.525177  222.770004  223.550003  219.820007   \n",
      "\n",
      "         Open    Volume  LSTM Predictions  RF Predictions  \n",
      "0  223.949997  48423000        217.669837      221.968604  \n",
      "1  220.820007  67180000        217.265124      221.819303  \n",
      "2  218.919998  51591000        216.749693      221.818804  \n",
      "3  221.460007  44587100        216.145360      220.822303  \n",
      "4  222.500000  37498200        215.614873      221.378803  \n"
     ]
    }
   ],
   "source": [
    "predicted_prices = pd.read_csv(\"output.csv\", parse_dates=True)\n",
    "\n",
    "print(predicted_prices.head())\n"
   ]
  },
  {
   "cell_type": "code",
   "execution_count": 30,
   "metadata": {},
   "outputs": [
    {
     "name": "stdout",
     "output_type": "stream",
     "text": [
      "Index(['Company', 'Date', 'Adj Close', 'Close', 'High', 'Low', 'Open',\n",
      "       'Volume', 'LSTM Predictions', 'RF Predictions'],\n",
      "      dtype='object')\n"
     ]
    }
   ],
   "source": [
    "print(predicted_prices.columns)\n"
   ]
  },
  {
   "cell_type": "code",
   "execution_count": 31,
   "metadata": {},
   "outputs": [
    {
     "name": "stdout",
     "output_type": "stream",
     "text": [
      "[]\n"
     ]
    }
   ],
   "source": [
    "# Filter columns related to AAPL\n",
    "aapl_columns = [col for col in predicted_prices.columns if \"AAPL\" in col]\n",
    "print(aapl_columns)  # Verify column selection\n"
   ]
  },
  {
   "cell_type": "code",
   "execution_count": 32,
   "metadata": {},
   "outputs": [],
   "source": [
    "# Convert numeric columns for a specific stock (example: AAPL)\n",
    "predicted_prices[aapl_columns] = predicted_prices[aapl_columns].apply(pd.to_numeric, errors='coerce')\n"
   ]
  },
  {
   "cell_type": "code",
   "execution_count": 33,
   "metadata": {},
   "outputs": [
    {
     "name": "stdout",
     "output_type": "stream",
     "text": [
      "  Company        Date   Adj Close       Close        High         Low  \\\n",
      "0   APPLE  2024-09-06  220.577332  220.820007  225.240005  219.770004   \n",
      "1   APPLE  2024-09-09  220.667221  220.910004  221.270004  216.710007   \n",
      "2   APPLE  2024-09-10  219.868103  220.110001  221.479996  216.729996   \n",
      "3   APPLE  2024-09-11  222.415298  222.660004  223.089996  217.889999   \n",
      "4   APPLE  2024-09-12  222.525177  222.770004  223.550003  219.820007   \n",
      "\n",
      "         Open    Volume  LSTM Predictions  RF Predictions  \n",
      "0  223.949997  48423000        217.669837      221.968604  \n",
      "1  220.820007  67180000        217.265124      221.819303  \n",
      "2  218.919998  51591000        216.749693      221.818804  \n",
      "3  221.460007  44587100        216.145360      220.822303  \n",
      "4  222.500000  37498200        215.614873      221.378803  \n"
     ]
    }
   ],
   "source": [
    "# predicted_prices = predicted_prices.dropna(subset=aapl_columns)\n",
    "print(predicted_prices.head())"
   ]
  },
  {
   "cell_type": "code",
   "execution_count": 34,
   "metadata": {},
   "outputs": [
    {
     "name": "stdout",
     "output_type": "stream",
     "text": [
      "Company              object\n",
      "Date                 object\n",
      "Adj Close           float64\n",
      "Close               float64\n",
      "High                float64\n",
      "Low                 float64\n",
      "Open                float64\n",
      "Volume                int64\n",
      "LSTM Predictions    float64\n",
      "RF Predictions      float64\n",
      "dtype: object\n"
     ]
    }
   ],
   "source": [
    "print(predicted_prices.dtypes)\n"
   ]
  },
  {
   "cell_type": "code",
   "execution_count": 35,
   "metadata": {},
   "outputs": [
    {
     "name": "stdout",
     "output_type": "stream",
     "text": [
      "    Adj Close       Close        High         Low        Open    Volume  \\\n",
      "0  220.577332  220.820007  225.240005  219.770004  223.949997  48423000   \n",
      "1  220.667221  220.910004  221.270004  216.710007  220.820007  67180000   \n",
      "2  219.868103  220.110001  221.479996  216.729996  218.919998  51591000   \n",
      "3  222.415298  222.660004  223.089996  217.889999  221.460007  44587100   \n",
      "4  222.525177  222.770004  223.550003  219.820007  222.500000  37498200   \n",
      "\n",
      "   LSTM Predictions  RF Predictions  \n",
      "0        217.669837      221.968604  \n",
      "1        217.265124      221.819303  \n",
      "2        216.749693      221.818804  \n",
      "3        216.145360      220.822303  \n",
      "4        215.614873      221.378803  \n"
     ]
    }
   ],
   "source": [
    "print(predicted_prices.select_dtypes(include=[float, int]).head())\n"
   ]
  },
  {
   "cell_type": "code",
   "execution_count": 36,
   "metadata": {},
   "outputs": [],
   "source": [
    "# Select only the numeric columns (i.e., exclude non-numeric columns like 'Ticker' and 'Unnamed')\n",
    "numeric_columns = predicted_prices.select_dtypes(include=[float, int])\n",
    "\n",
    "\n",
    "# Calculate percentage change and drop rows with NaN values (e.g., due to missing data or division by zero)\n",
    "predicted_returns = numeric_columns.pct_change().dropna().values\n"
   ]
  },
  {
   "cell_type": "code",
   "execution_count": 37,
   "metadata": {},
   "outputs": [
    {
     "name": "stdout",
     "output_type": "stream",
     "text": [
      "Adj Close          -0.687390\n",
      "Close              -0.687565\n",
      "High               -0.681853\n",
      "Low                -0.687019\n",
      "Open               -0.681401\n",
      "Volume              0.705318\n",
      "LSTM Predictions   -0.667274\n",
      "RF Predictions     -0.659896\n",
      "dtype: float64\n",
      "                  Adj Close      Close       High        Low       Open  \\\n",
      "Adj Close         11.529186   3.583742   3.700983   3.592621   3.710765   \n",
      "Close              3.583742  11.538908   3.706097   3.597545   3.715939   \n",
      "High               3.700983   3.706097  11.818986   3.732199   3.887569   \n",
      "Low                3.592621   3.597545   3.732199  11.593592   3.769001   \n",
      "Open               3.710765   3.715939   3.887569   3.769001  11.898668   \n",
      "Volume            -4.358384  -4.359139  -3.875882  -4.612131  -4.068751   \n",
      "LSTM Predictions   3.772440   3.777887   3.939908   3.820331   3.982172   \n",
      "RF Predictions     4.024534   4.030260   4.222668   4.092225   4.285418   \n",
      "\n",
      "                      Volume  LSTM Predictions  RF Predictions  \n",
      "Adj Close          -4.358384          3.772440        4.024534  \n",
      "Close              -4.359139          3.777887        4.030260  \n",
      "High               -3.875882          3.939908        4.222668  \n",
      "Low                -4.612131          3.820331        4.092225  \n",
      "Open               -4.068751          3.982172        4.285418  \n",
      "Volume            102.870811         -4.199876       -4.280026  \n",
      "LSTM Predictions   -4.199876         12.074530        4.390920  \n",
      "RF Predictions     -4.280026          4.390920       12.783538  \n"
     ]
    }
   ],
   "source": [
    "from pypfopt import expected_returns\n",
    "from pypfopt import risk_models\n",
    "from pypfopt.efficient_frontier import EfficientFrontier\n",
    "from pypfopt.expected_returns import mean_historical_return\n",
    "from pypfopt.risk_models import CovarianceShrinkage\n",
    "\n",
    "# Select numeric columns from predicted_prices\n",
    "numeric_columns = predicted_prices.select_dtypes(include=[float, int])\n",
    "\n",
    "# Calculate expected returns (mu) using numeric_columns\n",
    "mu = expected_returns.mean_historical_return(numeric_columns)\n",
    "\n",
    "# Calculate the covariance matrix using numeric_columns\n",
    "cov_matrix = risk_models.CovarianceShrinkage(numeric_columns).ledoit_wolf()\n",
    "\n",
    "# Print results\n",
    "print(mu)\n",
    "print(cov_matrix)\n",
    "\n"
   ]
  },
  {
   "cell_type": "code",
   "execution_count": 38,
   "metadata": {},
   "outputs": [
    {
     "name": "stdout",
     "output_type": "stream",
     "text": [
      "Adj Close          -0.687390\n",
      "Close              -0.687565\n",
      "High               -0.681853\n",
      "Low                -0.687019\n",
      "Open               -0.681401\n",
      "Volume              0.705318\n",
      "LSTM Predictions   -0.667274\n",
      "RF Predictions     -0.659896\n",
      "dtype: float64\n"
     ]
    }
   ],
   "source": [
    "print(mu)\n"
   ]
  },
  {
   "cell_type": "code",
   "execution_count": 39,
   "metadata": {},
   "outputs": [],
   "source": [
    "mu = mu * 252  # Assuming 252 trading days in a year for annualization\n"
   ]
  },
  {
   "cell_type": "code",
   "execution_count": 40,
   "metadata": {},
   "outputs": [],
   "source": [
    "mu = mu[mu > 0]\n",
    "cov_matrix = cov_matrix.loc[mu.index, mu.index]\n"
   ]
  },
  {
   "cell_type": "code",
   "execution_count": 41,
   "metadata": {},
   "outputs": [
    {
     "name": "stdout",
     "output_type": "stream",
     "text": [
      "Optimized Weights: OrderedDict({'Volume': 1.0})\n",
      "Expected annual return: 17774.0%\n",
      "Annual volatility: 1014.3%\n",
      "Sharpe Ratio: 17.52\n"
     ]
    }
   ],
   "source": [
    "ef = EfficientFrontier(mu, cov_matrix)\n",
    "weights = ef.max_sharpe()  # Maximize the Sharpe ratio\n",
    "cleaned_weights = ef.clean_weights()  # Get rounded weights\n",
    "print(\"Optimized Weights:\", cleaned_weights)\n",
    "\n",
    "# Performance metrics\n",
    "performance = ef.portfolio_performance(verbose=True)\n"
   ]
  },
  {
   "cell_type": "code",
   "execution_count": 42,
   "metadata": {},
   "outputs": [],
   "source": [
    "ef = EfficientFrontier(mu, cov_matrix)\n",
    "weights = ef.max_sharpe(risk_free_rate=0.01)  # Example: 1% risk-free rate\n"
   ]
  },
  {
   "cell_type": "code",
   "execution_count": 43,
   "metadata": {},
   "outputs": [],
   "source": [
    "from pypfopt import EfficientFrontier\n",
    "\n",
    "# Use the Efficient Frontier to maximize the Sharpe ratio\n",
    "ef = EfficientFrontier(mu, cov_matrix)\n",
    "weights = ef.max_sharpe()\n",
    "cleaned_weights = ef.clean_weights()"
   ]
  },
  {
   "cell_type": "code",
   "execution_count": 44,
   "metadata": {},
   "outputs": [
    {
     "name": "stdout",
     "output_type": "stream",
     "text": [
      "Expected annual return: 17774.0%\n",
      "Annual volatility: 1014.3%\n",
      "Sharpe Ratio: 17.52\n",
      "Optimized Weights: OrderedDict({'Volume': 1.0})\n"
     ]
    }
   ],
   "source": [
    "# Portfolio Performance\n",
    "performance = ef.portfolio_performance(verbose=True)\n",
    "print(\"Optimized Weights:\", cleaned_weights)\n",
    "\n",
    "# Step 5: Visualize the Portfolio Allocation\n",
    "import matplotlib.pyplot as plt"
   ]
  },
  {
   "cell_type": "code",
   "execution_count": 45,
   "metadata": {},
   "outputs": [
    {
     "data": {
      "image/png": "[encoded data removed]",
      "text/plain": [
       "<Figure size 640x480 with 1 Axes>"
      ]
     },
     "metadata": {},
     "output_type": "display_data"
    }
   ],
   "source": [
    "# Bar plot of weights\n",
    "plt.bar(cleaned_weights.keys(), cleaned_weights.values())\n",
    "plt.title(\"Optimized Portfolio Allocation\")\n",
    "plt.ylabel(\"Allocation Weight\")\n",
    "plt.xlabel(\"Stocks\")\n",
    "plt.xticks(rotation=45)\n",
    "plt.show()"
   ]
  },
  {
   "cell_type": "code",
   "execution_count": 46,
   "metadata": {},
   "outputs": [
    {
     "name": "stdout",
     "output_type": "stream",
     "text": [
      "Optimized Weights: [1.]\n"
     ]
    }
   ],
   "source": [
    "from scipy.optimize import minimize\n",
    "import numpy as np\n",
    "from pypfopt import objective_functions\n",
    "\n",
    "# Custom Sortino ratio function to minimize (negative Sortino ratio)\n",
    "def negative_sortino(weights, mu, cov_matrix):\n",
    "    weights = np.array(weights)\n",
    "    portfolio_return = np.dot(weights, mu)\n",
    "    portfolio_volatility = np.sqrt(np.dot(weights.T, np.dot(cov_matrix, weights)))\n",
    "    return -portfolio_return / portfolio_volatility  # Negative to minimize\n",
    "\n",
    "# Constraint: Weights sum to 1\n",
    "constraints = ({'type': 'eq', 'fun': lambda weights: np.sum(weights) - 1})\n",
    "\n",
    "# Bounds for weights\n",
    "bounds = [(0, 1) for _ in range(len(mu))]\n",
    "\n",
    "# Initial guess (equal weights)\n",
    "initial_guess = np.array([1 / len(mu) for _ in range(len(mu))])\n",
    "\n",
    "# Perform the optimization\n",
    "result = minimize(\n",
    "    negative_sortino,\n",
    "    initial_guess,\n",
    "    args=(mu, cov_matrix),\n",
    "    method=\"SLSQP\",\n",
    "    bounds=bounds,\n",
    "    constraints=constraints\n",
    ")\n",
    "\n",
    "# Extract the optimized weights\n",
    "optimized_weights = result.x\n",
    "print(\"Optimized Weights:\", optimized_weights)\n"
   ]
  }
 ],
 "metadata": {
  "kernelspec": {
   "display_name": "Python 3",
   "language": "python",
   "name": "python3"
  },
  "language_info": {
   "codemirror_mode": {
    "name": "ipython",
    "version": 3
   },
   "file_extension": ".py",
   "mimetype": "text/x-python",
   "name": "python",
   "nbconvert_exporter": "python",
   "pygments_lexer": "ipython3",
   "version": "3.12.4"
  }
 },
 "nbformat": 4,
 "nbformat_minor": 2
}
